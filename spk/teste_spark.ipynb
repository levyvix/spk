{
 "cells": [
  {
   "cell_type": "code",
   "execution_count": 1,
   "metadata": {},
   "outputs": [
    {
     "name": "stderr",
     "output_type": "stream",
     "text": [
      "Picked up JAVA_TOOL_OPTIONS:  -Xmx3489m\n",
      "Picked up JAVA_TOOL_OPTIONS:  -Xmx3489m\n",
      "24/01/10 03:48:01 WARN Utils: Your hostname, levyvix-spk-rllljjldiiq resolves to a loopback address: 127.0.0.1; using 10.0.5.2 instead (on interface eth0)\n",
      "24/01/10 03:48:01 WARN Utils: Set SPARK_LOCAL_IP if you need to bind to another address\n"
     ]
    },
    {
     "name": "stdout",
     "output_type": "stream",
     "text": [
      ":: loading settings :: url = jar:file:/workspace/.pyenv_mirror/poetry/virtualenvs/spk-WnVPO9Fr-py3.12/lib/python3.12/site-packages/pyspark/jars/ivy-2.5.1.jar!/org/apache/ivy/core/settings/ivysettings.xml\n"
     ]
    },
    {
     "name": "stderr",
     "output_type": "stream",
     "text": [
      "Ivy Default Cache set to: /home/gitpod/.ivy2/cache\n",
      "The jars for the packages stored in: /home/gitpod/.ivy2/jars\n",
      "io.delta#delta-spark_2.12 added as a dependency\n",
      ":: resolving dependencies :: org.apache.spark#spark-submit-parent-49270e82-c822-4a90-87b0-2e14f86f343f;1.0\n",
      "\tconfs: [default]\n",
      "\tfound io.delta#delta-spark_2.12;3.0.0 in central\n",
      "\tfound io.delta#delta-storage;3.0.0 in central\n",
      "\tfound org.antlr#antlr4-runtime;4.9.3 in central\n",
      "downloading https://repo1.maven.org/maven2/io/delta/delta-spark_2.12/3.0.0/delta-spark_2.12-3.0.0.jar ...\n",
      "\t[SUCCESSFUL ] io.delta#delta-spark_2.12;3.0.0!delta-spark_2.12.jar (117ms)\n",
      "downloading https://repo1.maven.org/maven2/io/delta/delta-storage/3.0.0/delta-storage-3.0.0.jar ...\n",
      "\t[SUCCESSFUL ] io.delta#delta-storage;3.0.0!delta-storage.jar (31ms)\n",
      "downloading https://repo1.maven.org/maven2/org/antlr/antlr4-runtime/4.9.3/antlr4-runtime-4.9.3.jar ...\n",
      "\t[SUCCESSFUL ] org.antlr#antlr4-runtime;4.9.3!antlr4-runtime.jar (26ms)\n",
      ":: resolution report :: resolve 793ms :: artifacts dl 178ms\n",
      "\t:: modules in use:\n",
      "\tio.delta#delta-spark_2.12;3.0.0 from central in [default]\n",
      "\tio.delta#delta-storage;3.0.0 from central in [default]\n",
      "\torg.antlr#antlr4-runtime;4.9.3 from central in [default]\n",
      "\t---------------------------------------------------------------------\n",
      "\t|                  |            modules            ||   artifacts   |\n",
      "\t|       conf       | number| search|dwnlded|evicted|| number|dwnlded|\n",
      "\t---------------------------------------------------------------------\n",
      "\t|      default     |   3   |   3   |   3   |   0   ||   3   |   3   |\n",
      "\t---------------------------------------------------------------------\n",
      ":: retrieving :: org.apache.spark#spark-submit-parent-49270e82-c822-4a90-87b0-2e14f86f343f\n",
      "\tconfs: [default]\n",
      "\t3 artifacts copied, 0 already retrieved (5230kB/10ms)\n",
      "24/01/10 03:48:02 WARN NativeCodeLoader: Unable to load native-hadoop library for your platform... using builtin-java classes where applicable\n",
      "Setting default log level to \"WARN\".\n",
      "To adjust logging level use sc.setLogLevel(newLevel). For SparkR, use setLogLevel(newLevel).\n"
     ]
    }
   ],
   "source": [
    "import pyspark\n",
    "from delta import *\n",
    "\n",
    "builder = (\n",
    "    pyspark.sql.SparkSession.builder.appName(\"MyApp\")\n",
    "    .config(\"spark.sql.extensions\", \"io.delta.sql.DeltaSparkSessionExtension\")\n",
    "    .config(\n",
    "        \"spark.sql.catalog.spark_catalog\",\n",
    "        \"org.apache.spark.sql.delta.catalog.DeltaCatalog\",\n",
    "    )\n",
    ")\n",
    "\n",
    "spark = configure_spark_with_delta_pip(builder).getOrCreate()"
   ]
  },
  {
   "cell_type": "code",
   "execution_count": 3,
   "metadata": {},
   "outputs": [
    {
     "name": "stderr",
     "output_type": "stream",
     "text": [
      "                                                                                \r"
     ]
    }
   ],
   "source": [
    "data = spark.range(0, 5)\n",
    "data.write.format(\"delta\").save(\"../data/test\")"
   ]
  },
  {
   "cell_type": "code",
   "execution_count": 4,
   "metadata": {},
   "outputs": [
    {
     "name": "stdout",
     "output_type": "stream",
     "text": [
      "+---+\n",
      "| id|\n",
      "+---+\n",
      "|  0|\n",
      "|  1|\n",
      "|  4|\n",
      "|  3|\n",
      "|  2|\n",
      "+---+\n",
      "\n"
     ]
    }
   ],
   "source": [
    "spark.read.format(\"delta\").load(\"../data/test\").show()"
   ]
  },
  {
   "cell_type": "code",
   "execution_count": 5,
   "metadata": {},
   "outputs": [],
   "source": [
    "df = (\n",
    "    spark.read.format(\"csv\")\n",
    "    .option(\"header\", \"true\")\n",
    "    .option(\"inferSchema\", \"true\")\n",
    "    .load(\"../data/country_ISO_3166.csv\")\n",
    ")"
   ]
  },
  {
   "cell_type": "code",
   "execution_count": 6,
   "metadata": {},
   "outputs": [
    {
     "name": "stdout",
     "output_type": "stream",
     "text": [
      "+-------------------+---------------------+---------------------+--------------------+-------------+--------+--------------------+-------------------+-----------+---------------+------------------------+\n",
      "|       country_name|country_code_2_letter|country_code_3_letter|country_code_numeric|   iso_3166_2|  region|          sub_region|intermediate_region|region_code|sub_region_code|intermediate_region_code|\n",
      "+-------------------+---------------------+---------------------+--------------------+-------------+--------+--------------------+-------------------+-----------+---------------+------------------------+\n",
      "|        Afghanistan|                   AF|                  AFG|                   4|ISO 3166-2:AF|    Asia|       Southern Asia|               NULL|        142|             34|                    NULL|\n",
      "|      Åland Islands|                   AX|                  ALA|                 248|ISO 3166-2:AX|  Europe|     Northern Europe|               NULL|        150|            154|                    NULL|\n",
      "|            Albania|                   AL|                  ALB|                   8|ISO 3166-2:AL|  Europe|     Southern Europe|               NULL|        150|             39|                    NULL|\n",
      "|            Algeria|                   DZ|                  DZA|                  12|ISO 3166-2:DZ|  Africa|     Northern Africa|               NULL|          2|             15|                    NULL|\n",
      "|     American Samoa|                   AS|                  ASM|                  16|ISO 3166-2:AS| Oceania|           Polynesia|               NULL|          9|             61|                    NULL|\n",
      "|            Andorra|                   AD|                  AND|                  20|ISO 3166-2:AD|  Europe|     Southern Europe|               NULL|        150|             39|                    NULL|\n",
      "|             Angola|                   AO|                  AGO|                  24|ISO 3166-2:AO|  Africa|  Sub-Saharan Africa|      Middle Africa|          2|            202|                      17|\n",
      "|           Anguilla|                   AI|                  AIA|                 660|ISO 3166-2:AI|Americas|Latin America and...|          Caribbean|         19|            419|                      29|\n",
      "|         Antarctica|                   AQ|                  ATA|                  10|ISO 3166-2:AQ|    NULL|                NULL|               NULL|       NULL|           NULL|                    NULL|\n",
      "|Antigua and Barbuda|                   AG|                  ATG|                  28|ISO 3166-2:AG|Americas|Latin America and...|          Caribbean|         19|            419|                      29|\n",
      "|          Argentina|                   AR|                  ARG|                  32|ISO 3166-2:AR|Americas|Latin America and...|      South America|         19|            419|                       5|\n",
      "|            Armenia|                   AM|                  ARM|                  51|ISO 3166-2:AM|    Asia|        Western Asia|               NULL|        142|            145|                    NULL|\n",
      "|              Aruba|                   AW|                  ABW|                 533|ISO 3166-2:AW|Americas|Latin America and...|          Caribbean|         19|            419|                      29|\n",
      "|          Australia|                   AU|                  AUS|                  36|ISO 3166-2:AU| Oceania|Australia and New...|               NULL|          9|             53|                    NULL|\n",
      "|            Austria|                   AT|                  AUT|                  40|ISO 3166-2:AT|  Europe|      Western Europe|               NULL|        150|            155|                    NULL|\n",
      "|         Azerbaijan|                   AZ|                  AZE|                  31|ISO 3166-2:AZ|    Asia|        Western Asia|               NULL|        142|            145|                    NULL|\n",
      "|            Bahamas|                   BS|                  BHS|                  44|ISO 3166-2:BS|Americas|Latin America and...|          Caribbean|         19|            419|                      29|\n",
      "|            Bahrain|                   BH|                  BHR|                  48|ISO 3166-2:BH|    Asia|        Western Asia|               NULL|        142|            145|                    NULL|\n",
      "|         Bangladesh|                   BD|                  BGD|                  50|ISO 3166-2:BD|    Asia|       Southern Asia|               NULL|        142|             34|                    NULL|\n",
      "|           Barbados|                   BB|                  BRB|                  52|ISO 3166-2:BB|Americas|Latin America and...|          Caribbean|         19|            419|                      29|\n",
      "+-------------------+---------------------+---------------------+--------------------+-------------+--------+--------------------+-------------------+-----------+---------------+------------------------+\n",
      "only showing top 20 rows\n",
      "\n"
     ]
    }
   ],
   "source": [
    "df.show()"
   ]
  },
  {
   "cell_type": "code",
   "execution_count": 10,
   "metadata": {},
   "outputs": [
    {
     "name": "stderr",
     "output_type": "stream",
     "text": [
      "                                                                                \r"
     ]
    }
   ],
   "source": [
    "df.write.format(\"delta\").mode(\"overwrite\").partitionBy(\"region\").option(\n",
    "    \"overwriteSchema\", \"true\"\n",
    ").save(\"../data/country\")"
   ]
  },
  {
   "cell_type": "code",
   "execution_count": null,
   "metadata": {},
   "outputs": [],
   "source": []
  }
 ],
 "metadata": {
  "kernelspec": {
   "display_name": ".venv",
   "language": "python",
   "name": "python3"
  },
  "language_info": {
   "codemirror_mode": {
    "name": "ipython",
    "version": 3
   },
   "file_extension": ".py",
   "mimetype": "text/x-python",
   "name": "python",
   "nbconvert_exporter": "python",
   "pygments_lexer": "ipython3",
   "version": "3.12.1"
  }
 },
 "nbformat": 4,
 "nbformat_minor": 2
}
